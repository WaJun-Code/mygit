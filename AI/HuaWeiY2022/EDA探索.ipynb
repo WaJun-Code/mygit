{
 "cells": [
  {
   "cell_type": "code",
   "execution_count": 1,
   "id": "2346426d",
   "metadata": {},
   "outputs": [],
   "source": [
    "with open(\"../train.json\", 'r', encoding='utf8') as f:\n",
    "    lines = f.readlines()\n",
    "with open(\"./labels.txt\", 'r', encoding='utf8') as f:\n",
    "    labels = f.readlines()\n",
    "labels = [s.strip() for s in labels]"
   ]
  },
  {
   "cell_type": "code",
   "execution_count": 6,
   "id": "9d608005",
   "metadata": {},
   "outputs": [],
   "source": [
    "import pandas as pd\n",
    "import json\n",
    "df = pd.DataFrame( [json.loads(lines[i]) for i in range(len(lines))])"
   ]
  },
  {
   "cell_type": "code",
   "execution_count": 14,
   "id": "f205d7c1",
   "metadata": {},
   "outputs": [
    {
     "data": {
      "text/html": [
       "<div>\n",
       "<style scoped>\n",
       "    .dataframe tbody tr th:only-of-type {\n",
       "        vertical-align: middle;\n",
       "    }\n",
       "\n",
       "    .dataframe tbody tr th {\n",
       "        vertical-align: top;\n",
       "    }\n",
       "\n",
       "    .dataframe thead th {\n",
       "        text-align: right;\n",
       "    }\n",
       "</style>\n",
       "<table border=\"1\" class=\"dataframe\">\n",
       "  <thead>\n",
       "    <tr style=\"text-align: right;\">\n",
       "      <th></th>\n",
       "      <th>emr_id</th>\n",
       "      <th>age</th>\n",
       "      <th>gender</th>\n",
       "      <th>chief_complaint</th>\n",
       "      <th>history_of_present_illness</th>\n",
       "      <th>past_history</th>\n",
       "      <th>physical_examination</th>\n",
       "      <th>supplementary_examination</th>\n",
       "      <th>diagnosis</th>\n",
       "    </tr>\n",
       "  </thead>\n",
       "  <tbody>\n",
       "    <tr>\n",
       "      <th>0</th>\n",
       "      <td>ZY001838</td>\n",
       "      <td>7岁</td>\n",
       "      <td>男</td>\n",
       "      <td>发现呕吐、抽搐5+小时</td>\n",
       "      <td>5+小时前患儿因进食马桑果后（具体量不详）家长发现其呕吐、抽搐，呕吐共9次，呕吐物为红色果渣...</td>\n",
       "      <td>生产史：第3胎第3产；足月平产；接生法：旧法；出生体重：不详出生后无窒息母孕期患何病：无  ...</td>\n",
       "      <td>一般情况：发育正常，营养中等，神志清楚，精神欠佳，呼吸平稳，无声音嘶哑，自动体位,无三凹征。...</td>\n",
       "      <td>暂缺。</td>\n",
       "      <td>[心肌炎]</td>\n",
       "    </tr>\n",
       "    <tr>\n",
       "      <th>1</th>\n",
       "      <td>ZY004023</td>\n",
       "      <td></td>\n",
       "      <td>女</td>\n",
       "      <td>反复右上腹痛1+年</td>\n",
       "      <td>1+年前进食油腻食物后感右上腹隐痛，持续性，可忍，并向右肩背部放射痛，无畏寒、发热，无恶心、...</td>\n",
       "      <td>既往5+年前我院行子宫全切除术，否认“肝炎、伤寒、结核”传染病病史及接触史；无“高血压、糖尿...</td>\n",
       "      <td>发育正常，营养中等，神志清楚，慢性病容，步入病房，查体合作。全身皮肤粘膜无黄染及出血...</td>\n",
       "      <td>肝胆胰脾B超示：肝左叶钙化灶；胆囊炎，胆囊多发结石。</td>\n",
       "      <td>[胆囊炎]</td>\n",
       "    </tr>\n",
       "    <tr>\n",
       "      <th>2</th>\n",
       "      <td>ZY010727</td>\n",
       "      <td>58Y</td>\n",
       "      <td>男</td>\n",
       "      <td>主诉：反复多尿、口干多饮10年，四肢麻木3年，加重3天。</td>\n",
       "      <td>现病史： 缘患者10年前开始出现多尿、口干、多饮症状，小便常规有尿蛋白，曾在我院内科及高陂卫...</td>\n",
       "      <td>既往史：患者既往有高脂血症、蛋白尿、周围神经病病变，直肠炎、内痔等病史。否认慢支肺气肿病史；...</td>\n",
       "      <td>体格检查\\nT：36.6℃  P：92次/分　R：20次/分　Bp：146/82mmHg\\n...</td>\n",
       "      <td></td>\n",
       "      <td>[高脂血症, 痔, 糖尿病, 肺结核]</td>\n",
       "    </tr>\n",
       "    <tr>\n",
       "      <th>3</th>\n",
       "      <td>ZY006060</td>\n",
       "      <td></td>\n",
       "      <td></td>\n",
       "      <td>左耳疼痛半月。</td>\n",
       "      <td>半月前患者无明显诱因出现左耳疼痛，呈闷痛，难以忍受，无耳道流脓、流血，无明显听力下降，无畏寒...</td>\n",
       "      <td>健康情况：既往体健。患病情况：否认“肝炎、伤寒、结核”病史，否认外伤史及输血史。药物及食物过...</td>\n",
       "      <td></td>\n",
       "      <td>日耳镜检查（检查号21）示：耳镜检查见左外耳道通畅，鼓膜完整，透光差，鼓室混浊，考虑积脓可能...</td>\n",
       "      <td>[中耳炎]</td>\n",
       "    </tr>\n",
       "    <tr>\n",
       "      <th>4</th>\n",
       "      <td>ZY004532</td>\n",
       "      <td>40岁</td>\n",
       "      <td>男</td>\n",
       "      <td>刀刺伤致胸部及左手疼痛、流血1小时</td>\n",
       "      <td>1小时前，患者被他人用刀刺伤左胸部及左手，具体受伤机制不详，伤后即感左胸部及左手伤口持续疼痛...</td>\n",
       "      <td>既往体健，否认“肝炎、伤寒、结核”等传染病史，否认“冠心病、高血压、糖尿病”等慢性病史，否认...</td>\n",
       "      <td>发育正常，营养中等，急性病容，步入病房，神志清楚，精神欠佳，查体合作。全身皮肤粘膜无...</td>\n",
       "      <td>胸部CT示：前上胸壁刺伤，斜向下经胸骨柄进入前纵膈区，胸骨骨折，前纵膈及心包边缘积气...</td>\n",
       "      <td>[骨折]</td>\n",
       "    </tr>\n",
       "    <tr>\n",
       "      <th>...</th>\n",
       "      <td>...</td>\n",
       "      <td>...</td>\n",
       "      <td>...</td>\n",
       "      <td>...</td>\n",
       "      <td>...</td>\n",
       "      <td>...</td>\n",
       "      <td>...</td>\n",
       "      <td>...</td>\n",
       "      <td>...</td>\n",
       "    </tr>\n",
       "    <tr>\n",
       "      <th>11084</th>\n",
       "      <td>ZY011838</td>\n",
       "      <td>Y58</td>\n",
       "      <td>男</td>\n",
       "      <td>主诉：反复活动后气促3年，再发加重1周。</td>\n",
       "      <td>现病史：患者于2013.11.28—2013.12.05因“右上腹痛”在我院普外科住院期间，...</td>\n",
       "      <td>既往史：2013.05.14—2013.05.20曾因“左输尿管结石”在我院普外科住院治疗，...</td>\n",
       "      <td></td>\n",
       "      <td></td>\n",
       "      <td>[高脂血症, 高血压]</td>\n",
       "    </tr>\n",
       "    <tr>\n",
       "      <th>11085</th>\n",
       "      <td>ZY001155</td>\n",
       "      <td>3岁4月</td>\n",
       "      <td>女</td>\n",
       "      <td>发热2天，咳嗽半天</td>\n",
       "      <td>2天前患儿无明显诱因出现发热，体温最高40.0℃，无寒战及手足抽搐，伴流涕，鼻塞及打喷嚏，无...</td>\n",
       "      <td>生产史：第1胎第1产；足月剖宫产；接生法：新法；出生体重：2.2Kg出生后无窒息母孕期患何病...</td>\n",
       "      <td>一般情况：发育正常，营养中等，神志清楚，精神稍差，呼吸平稳，无声音嘶哑，自动体位。皮肤及皮下...</td>\n",
       "      <td>暂缺。</td>\n",
       "      <td>[肺炎, 腹泻]</td>\n",
       "    </tr>\n",
       "    <tr>\n",
       "      <th>11086</th>\n",
       "      <td>ZY009101</td>\n",
       "      <td>64Y</td>\n",
       "      <td>男</td>\n",
       "      <td>主诉：反复口干、多饮、多尿3年余，加重伴四肢麻木1周</td>\n",
       "      <td>现病史：缘患者于3年前开始出现口干、多饮、多尿，无双眼视力减退，无皮肤瘙痒，无四肢麻木，无胸...</td>\n",
       "      <td>既往史：有高血压史多年，平素自服“硝苯地平缓释片”控制血压尚可；有糖尿病史3年，平素自服“格...</td>\n",
       "      <td>体格检查\\nT:36.3℃，P：80次/分，R：20次/分，Bp：136/76mmHg，Wt...</td>\n",
       "      <td></td>\n",
       "      <td>[高脂血症, 糖尿病, 高血压]</td>\n",
       "    </tr>\n",
       "    <tr>\n",
       "      <th>11087</th>\n",
       "      <td>ZY010768</td>\n",
       "      <td>Y86</td>\n",
       "      <td>女</td>\n",
       "      <td>主诉：咳嗽1周余，加重伴发热3天。</td>\n",
       "      <td>现病史：患者1周余前无明显诱因出现咳嗽，呈阵发性连声咳，无明显时间规律，有咯稠痰，较难咯出，...</td>\n",
       "      <td>既往史：否认有“糖尿病、冠心病”等慢性病病史，否认有药物过敏史，否认有外伤史， 数年前有右膝...</td>\n",
       "      <td>T：38.5℃， P：92次/分， R：22次/分， Bp：130/71mmHg。</td>\n",
       "      <td></td>\n",
       "      <td>[肺炎, 急性上呼吸道感染, 关节炎, 高血压]</td>\n",
       "    </tr>\n",
       "    <tr>\n",
       "      <th>11088</th>\n",
       "      <td>ZY003482</td>\n",
       "      <td></td>\n",
       "      <td>女</td>\n",
       "      <td>反复左下肢疼痛10年,加重并腰部胀痛3年</td>\n",
       "      <td>10年前无明显诱因感左大腿、小腿外侧胀痛不适,以行走后为重，在当地医院以“风湿”口服止痛药（...</td>\n",
       "      <td>既往体健，否认高血压、冠心病、糖尿病、肾病病史，否认肝炎、结核等传染病传染病史，否认重大手术...</td>\n",
       "      <td>发育正常，营养中等，神清，自动体位，查体合作。全身皮肤粘膜无黄染，未见出血点、瘀斑。各浅表淋...</td>\n",
       "      <td>外院腰椎MRI示：腰椎退变，腰3/4、腰4/5、腰5/骶1椎间盘膨出。</td>\n",
       "      <td>[腰椎间盘突出]</td>\n",
       "    </tr>\n",
       "  </tbody>\n",
       "</table>\n",
       "<p>11089 rows × 9 columns</p>\n",
       "</div>"
      ],
      "text/plain": [
       "         emr_id   age gender               chief_complaint  \\\n",
       "0      ZY001838    7岁      男                   发现呕吐、抽搐5+小时   \n",
       "1      ZY004023            女                     反复右上腹痛1+年   \n",
       "2      ZY010727   58Y      男  主诉：反复多尿、口干多饮10年，四肢麻木3年，加重3天。   \n",
       "3      ZY006060                                    左耳疼痛半月。   \n",
       "4      ZY004532   40岁      男             刀刺伤致胸部及左手疼痛、流血1小时   \n",
       "...         ...   ...    ...                           ...   \n",
       "11084  ZY011838   Y58      男          主诉：反复活动后气促3年，再发加重1周。   \n",
       "11085  ZY001155  3岁4月      女                     发热2天，咳嗽半天   \n",
       "11086  ZY009101   64Y      男    主诉：反复口干、多饮、多尿3年余，加重伴四肢麻木1周   \n",
       "11087  ZY010768   Y86      女             主诉：咳嗽1周余，加重伴发热3天。   \n",
       "11088  ZY003482            女          反复左下肢疼痛10年,加重并腰部胀痛3年   \n",
       "\n",
       "                              history_of_present_illness  \\\n",
       "0      5+小时前患儿因进食马桑果后（具体量不详）家长发现其呕吐、抽搐，呕吐共9次，呕吐物为红色果渣...   \n",
       "1      1+年前进食油腻食物后感右上腹隐痛，持续性，可忍，并向右肩背部放射痛，无畏寒、发热，无恶心、...   \n",
       "2      现病史： 缘患者10年前开始出现多尿、口干、多饮症状，小便常规有尿蛋白，曾在我院内科及高陂卫...   \n",
       "3      半月前患者无明显诱因出现左耳疼痛，呈闷痛，难以忍受，无耳道流脓、流血，无明显听力下降，无畏寒...   \n",
       "4      1小时前，患者被他人用刀刺伤左胸部及左手，具体受伤机制不详，伤后即感左胸部及左手伤口持续疼痛...   \n",
       "...                                                  ...   \n",
       "11084  现病史：患者于2013.11.28—2013.12.05因“右上腹痛”在我院普外科住院期间，...   \n",
       "11085  2天前患儿无明显诱因出现发热，体温最高40.0℃，无寒战及手足抽搐，伴流涕，鼻塞及打喷嚏，无...   \n",
       "11086  现病史：缘患者于3年前开始出现口干、多饮、多尿，无双眼视力减退，无皮肤瘙痒，无四肢麻木，无胸...   \n",
       "11087  现病史：患者1周余前无明显诱因出现咳嗽，呈阵发性连声咳，无明显时间规律，有咯稠痰，较难咯出，...   \n",
       "11088  10年前无明显诱因感左大腿、小腿外侧胀痛不适,以行走后为重，在当地医院以“风湿”口服止痛药（...   \n",
       "\n",
       "                                            past_history  \\\n",
       "0      生产史：第3胎第3产；足月平产；接生法：旧法；出生体重：不详出生后无窒息母孕期患何病：无  ...   \n",
       "1      既往5+年前我院行子宫全切除术，否认“肝炎、伤寒、结核”传染病病史及接触史；无“高血压、糖尿...   \n",
       "2      既往史：患者既往有高脂血症、蛋白尿、周围神经病病变，直肠炎、内痔等病史。否认慢支肺气肿病史；...   \n",
       "3      健康情况：既往体健。患病情况：否认“肝炎、伤寒、结核”病史，否认外伤史及输血史。药物及食物过...   \n",
       "4      既往体健，否认“肝炎、伤寒、结核”等传染病史，否认“冠心病、高血压、糖尿病”等慢性病史，否认...   \n",
       "...                                                  ...   \n",
       "11084  既往史：2013.05.14—2013.05.20曾因“左输尿管结石”在我院普外科住院治疗，...   \n",
       "11085  生产史：第1胎第1产；足月剖宫产；接生法：新法；出生体重：2.2Kg出生后无窒息母孕期患何病...   \n",
       "11086  既往史：有高血压史多年，平素自服“硝苯地平缓释片”控制血压尚可；有糖尿病史3年，平素自服“格...   \n",
       "11087  既往史：否认有“糖尿病、冠心病”等慢性病病史，否认有药物过敏史，否认有外伤史， 数年前有右膝...   \n",
       "11088  既往体健，否认高血压、冠心病、糖尿病、肾病病史，否认肝炎、结核等传染病传染病史，否认重大手术...   \n",
       "\n",
       "                                    physical_examination  \\\n",
       "0      一般情况：发育正常，营养中等，神志清楚，精神欠佳，呼吸平稳，无声音嘶哑，自动体位,无三凹征。...   \n",
       "1          发育正常，营养中等，神志清楚，慢性病容，步入病房，查体合作。全身皮肤粘膜无黄染及出血...   \n",
       "2      体格检查\\nT：36.6℃  P：92次/分　R：20次/分　Bp：146/82mmHg\\n...   \n",
       "3                                                          \n",
       "4          发育正常，营养中等，急性病容，步入病房，神志清楚，精神欠佳，查体合作。全身皮肤粘膜无...   \n",
       "...                                                  ...   \n",
       "11084                                                      \n",
       "11085  一般情况：发育正常，营养中等，神志清楚，精神稍差，呼吸平稳，无声音嘶哑，自动体位。皮肤及皮下...   \n",
       "11086  体格检查\\nT:36.3℃，P：80次/分，R：20次/分，Bp：136/76mmHg，Wt...   \n",
       "11087          T：38.5℃， P：92次/分， R：22次/分， Bp：130/71mmHg。   \n",
       "11088  发育正常，营养中等，神清，自动体位，查体合作。全身皮肤粘膜无黄染，未见出血点、瘀斑。各浅表淋...   \n",
       "\n",
       "                               supplementary_examination  \\\n",
       "0                                                    暂缺。   \n",
       "1                           肝胆胰脾B超示：肝左叶钙化灶；胆囊炎，胆囊多发结石。     \n",
       "2                                                          \n",
       "3      日耳镜检查（检查号21）示：耳镜检查见左外耳道通畅，鼓膜完整，透光差，鼓室混浊，考虑积脓可能...   \n",
       "4          胸部CT示：前上胸壁刺伤，斜向下经胸骨柄进入前纵膈区，胸骨骨折，前纵膈及心包边缘积气...   \n",
       "...                                                  ...   \n",
       "11084                                                      \n",
       "11085                                                暂缺。   \n",
       "11086                                                      \n",
       "11087                                                      \n",
       "11088                外院腰椎MRI示：腰椎退变，腰3/4、腰4/5、腰5/骶1椎间盘膨出。   \n",
       "\n",
       "                      diagnosis  \n",
       "0                         [心肌炎]  \n",
       "1                         [胆囊炎]  \n",
       "2           [高脂血症, 痔, 糖尿病, 肺结核]  \n",
       "3                         [中耳炎]  \n",
       "4                          [骨折]  \n",
       "...                         ...  \n",
       "11084               [高脂血症, 高血压]  \n",
       "11085                  [肺炎, 腹泻]  \n",
       "11086          [高脂血症, 糖尿病, 高血压]  \n",
       "11087  [肺炎, 急性上呼吸道感染, 关节炎, 高血压]  \n",
       "11088                  [腰椎间盘突出]  \n",
       "\n",
       "[11089 rows x 9 columns]"
      ]
     },
     "execution_count": 14,
     "metadata": {},
     "output_type": "execute_result"
    }
   ],
   "source": [
    "df"
   ]
  },
  {
   "cell_type": "code",
   "execution_count": 13,
   "id": "af6ca247",
   "metadata": {},
   "outputs": [
    {
     "data": {
      "text/plain": [
       "5323"
      ]
     },
     "execution_count": 13,
     "metadata": {},
     "output_type": "execute_result"
    }
   ],
   "source": [
    "df[\"history_of_present_illness\"].apply(lambda x:\"收入\" not in x).sum()"
   ]
  },
  {
   "cell_type": "code",
   "execution_count": 14,
   "id": "96cbed8a",
   "metadata": {},
   "outputs": [
    {
     "data": {
      "text/plain": [
       "3862"
      ]
     },
     "execution_count": 14,
     "metadata": {},
     "output_type": "execute_result"
    }
   ],
   "source": [
    "df[\"history_of_present_illness\"].apply(lambda x:\"门诊\" not in x).sum()"
   ]
  },
  {
   "cell_type": "code",
   "execution_count": 15,
   "id": "8eec2d23",
   "metadata": {},
   "outputs": [
    {
     "data": {
      "text/plain": [
       "2798"
      ]
     },
     "execution_count": 15,
     "metadata": {},
     "output_type": "execute_result"
    }
   ],
   "source": [
    "df[\"past_history\"].apply(lambda x:\"否认\" not in x).sum()"
   ]
  },
  {
   "cell_type": "code",
   "execution_count": 17,
   "id": "b957de59",
   "metadata": {},
   "outputs": [
    {
     "data": {
      "text/plain": [
       "6291"
      ]
     },
     "execution_count": 17,
     "metadata": {},
     "output_type": "execute_result"
    }
   ],
   "source": [
    "df[\"past_history\"].apply(lambda x:\"有\" not in x).sum()"
   ]
  },
  {
   "cell_type": "code",
   "execution_count": 44,
   "id": "3940d332",
   "metadata": {},
   "outputs": [
    {
     "data": {
      "text/plain": [
       "2911"
      ]
     },
     "execution_count": 44,
     "metadata": {},
     "output_type": "execute_result"
    }
   ],
   "source": [
    "df[\"supplementary_examination\"].fillna(\"0\").apply(lambda x:\"示\" in x).sum()"
   ]
  },
  {
   "cell_type": "code",
   "execution_count": 191,
   "id": "7405e357",
   "metadata": {},
   "outputs": [],
   "source": [
    "#history_of_present_illness出现血压就都判一个[\"高血压\",\"否认高血压\"]\n",
    "def supplementary_cut(x): #先删掉“否认”\"无\"部分，再直接匹配\n",
    "    L = set()\n",
    "    x = x.strip().replace(\"，\",\"。\").split(\"。\")\n",
    "    x = [\"\".join(re.findall('[\\u4e00-\\u9fa5]',i)) for i in x]\n",
    "    n = len(x)\n",
    "    for i in range(n):\n",
    "        if \"示\" in x[i]:\n",
    "            L.add(x[i])\n",
    "    return \"。\".join(L)\n",
    "def past_cut(x): #先删掉“否认”\"无\"部分，再直接匹配\n",
    "    L = set()\n",
    "    x = x.strip().replace(\"，\",\"。\").split(\"。\")\n",
    "    #删掉含“血压”的句子\n",
    "    i = 0\n",
    "    while i<len(x):\n",
    "        if \"否认\" in x[i] or \"无\" in x[i]:\n",
    "            x.pop(i)\n",
    "            continue\n",
    "        i+=1\n",
    "    x = [\"\".join(re.findall('[\\u4e00-\\u9fa5]',i)) for i in x]\n",
    "    n = len(x)\n",
    "    for i in range(n):\n",
    "        if \"有\" in x[i] or \"诊断\" in x[i]:\n",
    "            L.add(x[i])\n",
    "    return \"。\".join(L)\n",
    "def present_cut(x):   #df[\"history_of_present_illness\"].apply(str_cut)\n",
    "    L = set()\n",
    "    x = x.strip().replace(\"，\",\"。\").split(\"。\")\n",
    "    #删掉含“血压”的句子\n",
    "    i = 0\n",
    "    while i<len(x):\n",
    "        if \"血压\" in x[i]:\n",
    "            x.pop(i)\n",
    "            continue\n",
    "        i+=1\n",
    "    x = [\"\".join(re.findall('[\\u4e00-\\u9fa5]',i)) for i in x]\n",
    "    n = len(x)\n",
    "    for i in range(n):\n",
    "        if \"收\" in x[i]:\n",
    "            if i>0 and \"收\" not in x[i-1]:L.add(x[i-1])\n",
    "            L.add(x[i])\n",
    "            if i<n-1 and \"收\" not in x[i+1]:L.add(x[i+1])\n",
    "        elif \"诊断\" in x[i]:\n",
    "            L.add(x[i])\n",
    "    return \"。\".join(L)"
   ]
  },
  {
   "cell_type": "code",
   "execution_count": 203,
   "id": "dc3b0ad8",
   "metadata": {},
   "outputs": [],
   "source": [
    "df[\"supplementary_examination\"]=df[\"supplementary_examination\"].fillna(\"0\").apply(supplementary_cut)\n",
    "df[\"past_history\"] = df[\"past_history\"].apply(past_cut)\n",
    "df[\"history_of_present_illness\"] = df[\"history_of_present_illness\"].apply(str_cut)"
   ]
  },
  {
   "cell_type": "code",
   "execution_count": 226,
   "id": "0d4df933",
   "metadata": {},
   "outputs": [
    {
     "data": {
      "text/html": [
       "<div>\n",
       "<style scoped>\n",
       "    .dataframe tbody tr th:only-of-type {\n",
       "        vertical-align: middle;\n",
       "    }\n",
       "\n",
       "    .dataframe tbody tr th {\n",
       "        vertical-align: top;\n",
       "    }\n",
       "\n",
       "    .dataframe thead th {\n",
       "        text-align: right;\n",
       "    }\n",
       "</style>\n",
       "<table border=\"1\" class=\"dataframe\">\n",
       "  <thead>\n",
       "    <tr style=\"text-align: right;\">\n",
       "      <th></th>\n",
       "      <th>0</th>\n",
       "    </tr>\n",
       "  </thead>\n",
       "  <tbody>\n",
       "    <tr>\n",
       "      <th>0</th>\n",
       "      <td>病来精神差。于当地卫生院予输液及肌注药物治疗具体不详后由送入我院。门诊以马桑果中毒收入我科治...</td>\n",
       "    </tr>\n",
       "    <tr>\n",
       "      <th>1</th>\n",
       "      <td>病后精神饮食尚可。以慢性结石性胆囊炎收入我科。今为进一步诊治。。肝胆胰脾超示肝左叶钙化灶胆囊...</td>\n",
       "    </tr>\n",
       "    <tr>\n",
       "      <th>2</th>\n",
       "      <td>平素口服甲钴胺片一日三次。入院症见多尿。患者拒绝。出院后使用格列齐特缓释片早上一次。予以加用...</td>\n",
       "    </tr>\n",
       "    <tr>\n",
       "      <th>3</th>\n",
       "      <td>今为进一步明确诊治就诊于我院。门诊以左耳急性中耳炎慢性鼻窦炎收住院。病来精神饮食睡眠可。。日...</td>\n",
       "    </tr>\n",
       "    <tr>\n",
       "      <th>4</th>\n",
       "      <td>患者伤后精神差。行胸部检查后以开放性胸部损伤收入我科住院。门诊予伤口简单包扎止血。。胸部示前...</td>\n",
       "    </tr>\n",
       "    <tr>\n",
       "      <th>...</th>\n",
       "      <td>...</td>\n",
       "    </tr>\n",
       "    <tr>\n",
       "      <th>11084</th>\n",
       "      <td>诊断为脑动脉硬化症。予改善循环及止晕治疗后。经改善循环降脂抑制血小板聚集及止晕等治疗。诊断为...</td>\n",
       "    </tr>\n",
       "    <tr>\n",
       "      <th>11085</th>\n",
       "      <td>今为进一步治疗入我院。门诊以发热原因收入我科。病来精神睡眠较差。。。发热2天，咳嗽半天。一般...</td>\n",
       "    </tr>\n",
       "    <tr>\n",
       "      <th>11086</th>\n",
       "      <td>予口服药物治疗。急诊遂拟消渴收入住院。在当地医院诊断为型糖尿病。今为求进一步系统诊治。入院症...</td>\n",
       "    </tr>\n",
       "    <tr>\n",
       "      <th>11087</th>\n",
       "      <td>遂由家人送往我院急诊就诊。拟发热查因收住我科。起病以来。数年前有右膝关节手术史具体不详。。主...</td>\n",
       "    </tr>\n",
       "    <tr>\n",
       "      <th>11088</th>\n",
       "      <td>为进一步明确诊治就诊我院。以腰椎间盘突出症收入我科。病来精神好。。外院腰椎示腰椎退变。反复左...</td>\n",
       "    </tr>\n",
       "  </tbody>\n",
       "</table>\n",
       "<p>11089 rows × 1 columns</p>\n",
       "</div>"
      ],
      "text/plain": [
       "                                                       0\n",
       "0      病来精神差。于当地卫生院予输液及肌注药物治疗具体不详后由送入我院。门诊以马桑果中毒收入我科治...\n",
       "1      病后精神饮食尚可。以慢性结石性胆囊炎收入我科。今为进一步诊治。。肝胆胰脾超示肝左叶钙化灶胆囊...\n",
       "2      平素口服甲钴胺片一日三次。入院症见多尿。患者拒绝。出院后使用格列齐特缓释片早上一次。予以加用...\n",
       "3      今为进一步明确诊治就诊于我院。门诊以左耳急性中耳炎慢性鼻窦炎收住院。病来精神饮食睡眠可。。日...\n",
       "4      患者伤后精神差。行胸部检查后以开放性胸部损伤收入我科住院。门诊予伤口简单包扎止血。。胸部示前...\n",
       "...                                                  ...\n",
       "11084  诊断为脑动脉硬化症。予改善循环及止晕治疗后。经改善循环降脂抑制血小板聚集及止晕等治疗。诊断为...\n",
       "11085  今为进一步治疗入我院。门诊以发热原因收入我科。病来精神睡眠较差。。。发热2天，咳嗽半天。一般...\n",
       "11086  予口服药物治疗。急诊遂拟消渴收入住院。在当地医院诊断为型糖尿病。今为求进一步系统诊治。入院症...\n",
       "11087  遂由家人送往我院急诊就诊。拟发热查因收住我科。起病以来。数年前有右膝关节手术史具体不详。。主...\n",
       "11088  为进一步明确诊治就诊我院。以腰椎间盘突出症收入我科。病来精神好。。外院腰椎示腰椎退变。反复左...\n",
       "\n",
       "[11089 rows x 1 columns]"
      ]
     },
     "execution_count": 226,
     "metadata": {},
     "output_type": "execute_result"
    }
   ],
   "source": [
    "pd.DataFrame([\"。\".join(x) for x in df[[\"history_of_present_illness\",\"past_history\",\"supplementary_examination\",\"chief_complaint\",\"physical_examination\"]].values.tolist()])"
   ]
  },
  {
   "cell_type": "code",
   "execution_count": 227,
   "id": "49be0f30",
   "metadata": {},
   "outputs": [
    {
     "data": {
      "text/plain": [
       "5613      4\n",
       "7025     10\n",
       "4535     10\n",
       "6712     10\n",
       "8783     11\n",
       "       ... \n",
       "1979    883\n",
       "665     891\n",
       "3572    899\n",
       "4567    910\n",
       "2450    985\n",
       "Name: 0, Length: 11089, dtype: int64"
      ]
     },
     "execution_count": 227,
     "metadata": {},
     "output_type": "execute_result"
    }
   ],
   "source": [
    "Out[226][0].apply(len).sort_values()"
   ]
  },
  {
   "cell_type": "code",
   "execution_count": 222,
   "id": "295451f9",
   "metadata": {},
   "outputs": [
    {
     "data": {
      "text/plain": [
       "6326      2\n",
       "2423      2\n",
       "2426      2\n",
       "6416      2\n",
       "9498      2\n",
       "       ... \n",
       "2450    305\n",
       "471     308\n",
       "9633    310\n",
       "4170    334\n",
       "6699    353\n",
       "Name: 0, Length: 11089, dtype: int64"
      ]
     },
     "execution_count": 222,
     "metadata": {},
     "output_type": "execute_result"
    }
   ],
   "source": [
    "Out[209][0].apply(len).sort_values()"
   ]
  },
  {
   "cell_type": "code",
   "execution_count": 197,
   "id": "ed158175",
   "metadata": {},
   "outputs": [
    {
     "data": {
      "text/plain": [
       "0          0\n",
       "5761       0\n",
       "5759       0\n",
       "5758       0\n",
       "5757       0\n",
       "        ... \n",
       "1120     154\n",
       "10295    155\n",
       "2183     157\n",
       "4170     298\n",
       "6699     308\n",
       "Name: supplementary_examination, Length: 11089, dtype: int64"
      ]
     },
     "execution_count": 197,
     "metadata": {},
     "output_type": "execute_result"
    }
   ],
   "source": [
    "df[\"supplementary_examination\"].fillna(\"0\").apply(supplementary_cut).apply(len).sort_values()"
   ]
  },
  {
   "cell_type": "code",
   "execution_count": 200,
   "id": "7bf93082",
   "metadata": {},
   "outputs": [
    {
     "data": {
      "text/plain": [
       "'    头颅+中上腹CT平扫回示：1.右侧颞叶脑挫裂伤；2.少量蛛网膜下腔出血；3.右侧颞顶骨及颅底骨折；4.右侧乳突气房、上颌窦、蝶窦积液；5.右侧颞顶部头皮血肿；6.肝内多发高密度影考虑为钙化可能性大；7.扫描层双肺挫伤。    复查头颅、胸部、颈椎CT颈椎回示：1.右侧颞顶叶脑挫裂伤；2.蛛网膜下腔出血增加；3.右侧颞顶骨、鼻骨及颅底骨折；4.右侧乳突气房、上颌窦、蝶窦积液；5.右侧颞顶部头皮血肿；6.寰椎齿状突尖撕脱性骨折；7.颈4-6棘突骨折伴周围软组织挫伤；8.双肺挫伤；9.慢性支气管炎、肺气肿、肺大泡征象；10.双侧胸膜增厚及胸腔少量积液；11.双侧肋骨、胸骨柄、右侧锁骨骨折伴周围软组织；12.胸5-6椎体压缩性骨折伴周围软组织挫伤了；13.胸3-6棘突骨折伴周围软组织挫伤；    X线片：右侧第4-7肋骨腋段及左侧第3后肋骨折；右侧锁骨外1/3处骨折；左侧第8肋骨腋段陈旧性骨折；双肺及心膈未见明显异常；右侧尺桡骨未见异常；'"
      ]
     },
     "execution_count": 200,
     "metadata": {},
     "output_type": "execute_result"
    }
   ],
   "source": [
    "df.loc[6699,\"supplementary_examination\"]"
   ]
  },
  {
   "cell_type": "code",
   "execution_count": 202,
   "id": "f90e46a7",
   "metadata": {},
   "outputs": [
    {
     "data": {
      "text/plain": [
       "'头颅中上腹平扫回示右侧颞叶脑挫裂伤少量蛛网膜下腔出血右侧颞顶骨及颅底骨折右侧乳突气房上颌窦蝶窦积液右侧颞顶部头皮血肿肝内多发高密度影考虑为钙化可能性大扫描层双肺挫伤。复查头颅胸部颈椎颈椎回示右侧颞顶叶脑挫裂伤蛛网膜下腔出血增加右侧颞顶骨鼻骨及颅底骨折右侧乳突气房上颌窦蝶窦积液右侧颞顶部头皮血肿寰椎齿状突尖撕脱性骨折颈棘突骨折伴周围软组织挫伤双肺挫伤慢性支气管炎肺气肿肺大泡征象双侧胸膜增厚及胸腔少量积液双侧肋骨胸骨柄右侧锁骨骨折伴周围软组织胸椎体压缩性骨折伴周围软组织挫伤了胸棘突骨折伴周围软组织挫伤线片右侧第肋骨腋段及左侧第后肋骨折右侧锁骨外处骨折左侧第肋骨腋段陈旧性骨折双肺及心膈未见明显异常右侧尺桡骨未见异常'"
      ]
     },
     "execution_count": 202,
     "metadata": {},
     "output_type": "execute_result"
    }
   ],
   "source": [
    "df[\"supplementary_examination\"].fillna(\"0\").apply(supplementary_cut).loc[6699]"
   ]
  },
  {
   "cell_type": "code",
   "execution_count": 187,
   "id": "559e327f",
   "metadata": {},
   "outputs": [],
   "source": []
  },
  {
   "cell_type": "code",
   "execution_count": 188,
   "id": "79fb9d36",
   "metadata": {},
   "outputs": [
    {
     "data": {
      "text/plain": [
       "0         0\n",
       "6708      0\n",
       "6706      0\n",
       "6705      0\n",
       "6704      0\n",
       "       ... \n",
       "6978    191\n",
       "3681    198\n",
       "5554    200\n",
       "4020    221\n",
       "2305    231\n",
       "Name: past_history, Length: 11089, dtype: int64"
      ]
     },
     "execution_count": 188,
     "metadata": {},
     "output_type": "execute_result"
    }
   ],
   "source": [
    "df[\"past_history\"].apply(past_cut).apply(len).sort_values()"
   ]
  },
  {
   "cell_type": "code",
   "execution_count": 189,
   "id": "dc1c4093",
   "metadata": {},
   "outputs": [
    {
     "data": {
      "text/plain": [
       "'既往史：患者于2016年09月09日在我院内一区住院治疗,2016年09月15日出院,出院诊断:1、椎动脉型颈椎病 2、痛风性关节炎 3、2型糖尿病并周围神经病变 4、结石性胆囊炎 5、牙龈炎 6、脂肪肝 7、肝损害 8、高脂血症 9、腰椎病。患者于2005年3月因抽搐住院诊断为：“癔病”治愈出院。患者于2011年06月04日不慎骑摩托车与大货车相撞，摔伤头面部、左侧肩部，胸部，四肢多处，有短时昏迷，曾在南海九江医院住院检查诊断为：“双侧额部、颞部脑挫伤；脑干挫伤；创伤性湿肺；左侧锁骨内侧段骨折；左侧1、3肋骨骨折并胸腔积液；尿道损伤”住院期间经予止血、护脑、预防感染治疗，病情相对稳定，后转来我院治疗，并于2011-06-16行“左侧锁骨骨折切开复位钢板内固定术”，术程顺利，术后综合治疗，伤口愈合，患者存在“尿道狭窄”，泌尿外科给予输尿管镜检查及尿道扩张术，术后康复出院。无冠心病病史，否认肝炎、结核等传染病病史，无食物、药物过敏史，预防接种史不详。'"
      ]
     },
     "execution_count": 189,
     "metadata": {},
     "output_type": "execute_result"
    }
   ],
   "source": [
    "df[\"past_history\"].loc[7920]"
   ]
  },
  {
   "cell_type": "code",
   "execution_count": 182,
   "id": "49ded63a",
   "metadata": {},
   "outputs": [
    {
     "data": {
      "text/plain": [
       "['高脂血症', '关节炎', '糖尿病', '高血压']"
      ]
     },
     "execution_count": 182,
     "metadata": {},
     "output_type": "execute_result"
    }
   ],
   "source": [
    "df[\"diagnosis\"].loc[7920]"
   ]
  },
  {
   "cell_type": "code",
   "execution_count": 190,
   "id": "aa486c99",
   "metadata": {},
   "outputs": [
    {
     "data": {
      "text/plain": [
       "'曾在南海九江医院住院检查诊断为双侧额部颞部脑挫伤脑干挫伤创伤性湿肺左侧锁骨内侧段骨折左侧肋骨骨折并胸腔积液尿道损伤住院期间经予止血护脑预防感染治疗。患者于年月因抽搐住院诊断为癔病治愈出院。既往史患者于年月日在我院内一区住院治疗年月日出院出院诊断椎动脉型颈椎病痛风性关节炎型糖尿病并周围神经病变结石性胆囊炎牙龈炎脂肪肝肝损害高脂血症腰椎病。有短时昏迷'"
      ]
     },
     "execution_count": 190,
     "metadata": {},
     "output_type": "execute_result"
    }
   ],
   "source": [
    "df[\"past_history\"].apply(past_cut).loc[7920]"
   ]
  },
  {
   "cell_type": "code",
   "execution_count": 160,
   "id": "3f3ab57a",
   "metadata": {},
   "outputs": [],
   "source": []
  },
  {
   "cell_type": "code",
   "execution_count": 161,
   "id": "45f8506e",
   "metadata": {},
   "outputs": [
    {
     "data": {
      "text/plain": [
       "5625      0\n",
       "8348      0\n",
       "6121      0\n",
       "2798      0\n",
       "8342      0\n",
       "       ... \n",
       "9628    227\n",
       "2373    228\n",
       "9985    240\n",
       "2386    240\n",
       "471     284\n",
       "Name: history_of_present_illness, Length: 11089, dtype: int64"
      ]
     },
     "execution_count": 161,
     "metadata": {},
     "output_type": "execute_result"
    }
   ],
   "source": [
    "df[\"history_of_present_illness\"].apply(str_cut).apply(len).sort_values()"
   ]
  },
  {
   "cell_type": "code",
   "execution_count": 162,
   "id": "c5744069",
   "metadata": {},
   "outputs": [
    {
     "data": {
      "text/plain": [
       "'诊断为脑动脉硬化症。拟肺炎收入我科进一步治疗。出院诊断为后循环缺血慢性支气管炎急性加重白内障双上肺继发型肺结核稳定期阻塞性肺气肿双肺肺大泡胆囊息肉脂肪肝左膝关节骨关节炎重度重度骨质疏松症腰椎退行性变未除椎间盘变性右侧人工股骨头置换术后左侧额叶大脑镰旁脑膜瘤。心脏彩超。今日中午遂由家人送我院就诊。入院予改善循环调脂营养神经等治疗后。左室收缩功能正常。诊断为老年性肺气肿。予改善循环等治疗后症状可缓解。胸片示主动脉硬化心影无增大。经治疗后症状减轻具体不详。本次起病后患者无咯腥臭脓痰'"
      ]
     },
     "execution_count": 162,
     "metadata": {},
     "output_type": "execute_result"
    }
   ],
   "source": [
    "df[\"history_of_present_illness\"].apply(str_cut).loc[2386]"
   ]
  },
  {
   "cell_type": "code",
   "execution_count": 153,
   "id": "c86958a9",
   "metadata": {},
   "outputs": [
    {
     "data": {
      "text/plain": [
       "['支气管炎', '肺气肿', '肺结核', '高血压', '关节炎']"
      ]
     },
     "execution_count": 153,
     "metadata": {},
     "output_type": "execute_result"
    }
   ],
   "source": [
    "df[\"diagnosis\"].loc[2386]"
   ]
  },
  {
   "cell_type": "code",
   "execution_count": 88,
   "id": "9ac65925",
   "metadata": {},
   "outputs": [
    {
     "data": {
      "text/plain": [
       "1673"
      ]
     },
     "execution_count": 88,
     "metadata": {},
     "output_type": "execute_result"
    }
   ],
   "source": [
    "df[\"history_of_present_illness\"].apply(lambda x:\"诊断\" in x).sum()"
   ]
  },
  {
   "cell_type": "code",
   "execution_count": 77,
   "id": "c59e0d7a",
   "metadata": {},
   "outputs": [
    {
     "data": {
      "text/plain": [
       "51                          [贫血, 脑卒中]\n",
       "89              [急性扁桃体炎, 痔, 糖尿病, 高血压]\n",
       "141      [支气管炎, 糖尿病, 高脂血症, 高血压, 带状疱疹]\n",
       "194                      [支气管炎, 高脂血症]\n",
       "196                      [肺炎, 痔, 高血压]\n",
       "                     ...             \n",
       "10663                  [贫血, 鼻出血, 高血压]\n",
       "10730                       [便秘, 高血压]\n",
       "10760                       [急性肾小球肾炎]\n",
       "10789                     [高脂血症, 高血压]\n",
       "10914                     [高脂血症, 高血压]\n",
       "Name: diagnosis, Length: 208, dtype: object"
      ]
     },
     "execution_count": 77,
     "metadata": {},
     "output_type": "execute_result"
    }
   ],
   "source": [
    "df[df[\"history_of_present_illness\"].apply(lambda x:\"血压\" in x and \"高血压\" not in x)][\"diagnosis\"]"
   ]
  },
  {
   "cell_type": "code",
   "execution_count": 74,
   "id": "dd21ca87",
   "metadata": {},
   "outputs": [
    {
     "data": {
      "text/plain": [
       "12                           [糖尿病, 高血压]\n",
       "16                     [高脂血症, 脑卒中, 高血压]\n",
       "28       [骨折, 腰椎间盘突出, 糖尿病, 肺炎, 贫血, 高血压]\n",
       "43             [胆囊炎, 贫血, 肺气肿, 高血压, 关节炎]\n",
       "45           [短暂性脑缺血发作, 高脂血症, 糖尿病, 高血压]\n",
       "                      ...              \n",
       "11068           [肺炎, 高血压, 糖尿病, 椎动脉型颈椎病]\n",
       "11079                   [关节炎, 糖尿病, 高血压]\n",
       "11080                       [高脂血症, 高血压]\n",
       "11084                       [高脂血症, 高血压]\n",
       "11087          [肺炎, 急性上呼吸道感染, 关节炎, 高血压]\n",
       "Name: diagnosis, Length: 1380, dtype: object"
      ]
     },
     "execution_count": 74,
     "metadata": {},
     "output_type": "execute_result"
    }
   ],
   "source": [
    "df[df[\"history_of_present_illness\"].apply(lambda x:\"高血压\" in x)][\"diagnosis\"]"
   ]
  },
  {
   "cell_type": "code",
   "execution_count": 76,
   "id": "55ec5dc4",
   "metadata": {},
   "outputs": [
    {
     "data": {
      "text/plain": [
       "11       [胆管结石, 痔, 前列腺增生]\n",
       "19             [肺炎, 高脂血症]\n",
       "25              [骨折, 糖尿病]\n",
       "26              [椎动脉型颈椎病]\n",
       "29             [高脂血症, 骨折]\n",
       "               ...       \n",
       "11060                 [痔]\n",
       "11061            [痔, 高血压]\n",
       "11066      [肺炎, 糖尿病, 肩周炎]\n",
       "11083                 [痔]\n",
       "11088            [腰椎间盘突出]\n",
       "Name: diagnosis, Length: 1007, dtype: object"
      ]
     },
     "execution_count": 76,
     "metadata": {},
     "output_type": "execute_result"
    }
   ],
   "source": [
    "df[df[\"past_history\"].apply(lambda x:\"否认高血压\" in x)][\"diagnosis\"]"
   ]
  },
  {
   "cell_type": "code",
   "execution_count": 75,
   "id": "8625ca21",
   "metadata": {},
   "outputs": [
    {
     "data": {
      "text/plain": [
       "'既往体健，否认高血压、冠心病、糖尿病、肾病病史，否认肝炎、结核等传染病传染病史，否认重大手术外伤史。'"
      ]
     },
     "execution_count": 75,
     "metadata": {},
     "output_type": "execute_result"
    }
   ],
   "source": [
    "df.loc[11088,\"past_history\"]"
   ]
  },
  {
   "cell_type": "code",
   "execution_count": null,
   "id": "eef63cba",
   "metadata": {},
   "outputs": [],
   "source": []
  },
  {
   "cell_type": "code",
   "execution_count": 19,
   "id": "64d44762",
   "metadata": {},
   "outputs": [
    {
     "name": "stdout",
     "output_type": "stream",
     "text": [
      "59\n"
     ]
    }
   ],
   "source": [
    "a=set()\n",
    "for a0 in df[\"diagnosis\"]:\n",
    "    for a00 in a0:a.add(a00)\n",
    "print(len(a))"
   ]
  },
  {
   "cell_type": "code",
   "execution_count": 26,
   "id": "98f054c7",
   "metadata": {},
   "outputs": [
    {
     "name": "stdout",
     "output_type": "stream",
     "text": [
      "头部外伤\n",
      "睾丸鞘膜积液\n",
      "口腔粘膜溃疡\n",
      "急性阴道炎\n",
      "急性气管炎\n",
      "女性盆腔炎\n",
      "宫颈炎性疾病\n"
     ]
    }
   ],
   "source": [
    "for i in a:\n",
    "    if i not in labels:\n",
    "        print(i)"
   ]
  }
 ],
 "metadata": {
  "kernelspec": {
   "display_name": "Python 3 (ipykernel)",
   "language": "python",
   "name": "python3"
  },
  "language_info": {
   "codemirror_mode": {
    "name": "ipython",
    "version": 3
   },
   "file_extension": ".py",
   "mimetype": "text/x-python",
   "name": "python",
   "nbconvert_exporter": "python",
   "pygments_lexer": "ipython3",
   "version": "3.9.5"
  }
 },
 "nbformat": 4,
 "nbformat_minor": 5
}
